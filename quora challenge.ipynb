{
 "cells": [
  {
   "cell_type": "code",
   "execution_count": 1,
   "metadata": {
    "collapsed": false
   },
   "outputs": [
    {
     "name": "stderr",
     "output_type": "stream",
     "text": [
      "/home/jonathan/anaconda3/lib/python3.6/site-packages/sklearn/cross_validation.py:44: DeprecationWarning: This module was deprecated in version 0.18 in favor of the model_selection module into which all the refactored classes and functions are moved. Also note that the interface of the new CV iterators are different from that of this module. This module will be removed in 0.20.\n",
      "  \"This module will be removed in 0.20.\", DeprecationWarning)\n"
     ]
    }
   ],
   "source": [
    "import numpy as np\n",
    "import pandas as pd \n",
    "import xgboost as xgb\n",
    "import re\n",
    "from nltk.corpus import stopwords\n",
    "from nltk.stem import SnowballStemmer\n",
    "from sklearn.metrics.pairwise import cosine_similarity\n",
    "from sklearn.feature_extraction.text import TfidfVectorizer\n",
    "from sklearn.metrics import precision_recall_curve, auc, roc_curve\n",
    "import seaborn as sns\n",
    "from nltk import word_tokenize, pos_tag\n",
    "import seaborn as sns\n",
    "import matplotlib.pyplot as plt\n",
    "%matplotlib inline\n",
    "import itertools\n",
    "from nltk.stem import PorterStemmer, WordNetLemmatizer"
   ]
  },
  {
   "cell_type": "code",
   "execution_count": 2,
   "metadata": {
    "collapsed": true
   },
   "outputs": [],
   "source": [
    "def plot_distribution_feature(df, fname, label_col='is_duplicate'):\n",
    "    fig = plt.figure(figsize=(16,12))\n",
    "    ax1 = plt.subplot2grid((3, 2), (0, 0), colspan=2)\n",
    "    ax2 = plt.subplot2grid((3, 2), (1, 0), colspan=2)\n",
    "    ax3 = plt.subplot2grid((3, 2), (2, 0))\n",
    "    ax4 = plt.subplot2grid((3, 2), (2, 1))\n",
    "    ax1.set_title('Distribution of %s' % fname, fontsize=20)\n",
    "    sns.distplot(df[fname], bins=50, ax=ax1)    \n",
    "    sns.distplot(df.loc[df[label_col]==1][fname], bins=50, ax=ax2, label='positive')    \n",
    "    sns.distplot(df.loc[df[label_col]==0][fname], bins=50, ax=ax2, label='negative')\n",
    "    ax2.legend(loc='upper right', prop={'size': 18})\n",
    "    sns.boxplot(y=fname, x=label_col, data=df, ax=ax3)\n",
    "    sns.violinplot(y=fname, x=label_col, data=df, ax=ax4)\n",
    "    plt.show()"
   ]
  },
  {
   "cell_type": "code",
   "execution_count": 3,
   "metadata": {
    "collapsed": false
   },
   "outputs": [
    {
     "data": {
      "text/plain": [
       "(404290, 5)"
      ]
     },
     "execution_count": 3,
     "metadata": {},
     "output_type": "execute_result"
    }
   ],
   "source": [
    "train_data = pd.read_csv('data/train.csv', index_col='id')\n",
    "train_data = train_data.fillna(\"\")\n",
    "train_data.shape"
   ]
  },
  {
   "cell_type": "code",
   "execution_count": 189,
   "metadata": {
    "collapsed": false
   },
   "outputs": [
    {
     "data": {
      "text/plain": [
       "(2345796, 2)"
      ]
     },
     "execution_count": 189,
     "metadata": {},
     "output_type": "execute_result"
    }
   ],
   "source": [
    "test_data = pd.read_csv('data/test.csv', index_col='test_id')\n",
    "test_data = test_data.fillna(\"\")\n",
    "test_data.shape"
   ]
  },
  {
   "cell_type": "markdown",
   "metadata": {},
   "source": [
    "## create simple word features"
   ]
  },
  {
   "cell_type": "code",
   "execution_count": 4,
   "metadata": {
    "collapsed": false
   },
   "outputs": [],
   "source": [
    "def text_cleaner(text):\n",
    "    # Lower case\n",
    "    text = text.lower()\n",
    "\n",
    "    # Clean the text\n",
    "    text = re.sub(r\"[^A-Za-z0-9'-]\", \" \", text)\n",
    "    text = re.sub(r\"what's\", \"what is \", text)\n",
    "    text = re.sub(r\"\\'s\", \" \", text)\n",
    "    text = re.sub(r\"\\'ve\", \" have \", text)\n",
    "    text = re.sub(r\"can't\", \"cannot \", text)\n",
    "    text = re.sub(r\" n't\", \" not \", text)\n",
    "    text = re.sub(r\"i'm\", \"i am \", text)\n",
    "    text = re.sub(r\"\\'re\", \" are \", text)\n",
    "    text = re.sub(r\"\\'d\", \" would \", text)\n",
    "    text = re.sub(r\"\\'ll\", \" will \", text)\n",
    "    text = re.sub(r\"(\\d+)(k)\", r\"\\g<1>000\", text)\n",
    "    text = re.sub(r\"\\0s\", \"0\", text)\n",
    "    text = re.sub(r\" 9 11 \", \"911\", text)\n",
    "    text = re.sub(r\" e-mail\", \" email\", text)\n",
    "    text = re.sub(r\"'\", \" \", text)\n",
    "    text = re.sub(r\"\\s{2,}\", \" \", text)\n",
    "    text = re.sub(r\"(^| ).( |$)\", \" \", text)\n",
    "    \n",
    "    # Remove unused space\n",
    "    text = text.strip()\n",
    "    \n",
    "    return(text)"
   ]
  },
  {
   "cell_type": "code",
   "execution_count": 7,
   "metadata": {
    "collapsed": true
   },
   "outputs": [],
   "source": [
    "stemmer = PorterStemmer()\n",
    "lemmatiser = WordNetLemmatizer()\n",
    "\n",
    "def try_stem(word):\n",
    "    try:\n",
    "        return stemmer.stem(word)\n",
    "    except:\n",
    "        return word\n",
    "    \n",
    "def try_lem(word):\n",
    "    try:\n",
    "        return lemmatiser.lematize(word)\n",
    "    except:\n",
    "        return word\n",
    "\n",
    "def stem_lem_text(text):\n",
    "    words = word_tokenize(text)\n",
    "    # stemmer\n",
    "    stemmed_words = [try_stem(word) for word in words]\n",
    "    stemmed_text = \" \".join(stemmed_words)\n",
    "    # lemmatiser\n",
    "    lemmatized_words = [try_lem(word) for word in words]\n",
    "    lemmatized_text = \" \".join(lemmatized_words)\n",
    "    \n",
    "    return pd.Series([stemmed_text, lemmatized_text])"
   ]
  },
  {
   "cell_type": "code",
   "execution_count": 5,
   "metadata": {
    "collapsed": false
   },
   "outputs": [
    {
     "name": "stdout",
     "output_type": "stream",
     "text": [
      "cleanning question1\n",
      "cleanning question2\n"
     ]
    }
   ],
   "source": [
    "# clean data and stem-lemma\n",
    "typ = 'clean'\n",
    "for i in range(1,3):\n",
    "    # clean\n",
    "    print(\"cleanning question\" +str(i))\n",
    "    train_data['clean_question'+str(i)] = train_data['question'+str(i)].apply(text_cleaner)"
   ]
  },
  {
   "cell_type": "code",
   "execution_count": 9,
   "metadata": {
    "collapsed": false
   },
   "outputs": [
    {
     "name": "stdout",
     "output_type": "stream",
     "text": [
      "clean len and nb words1\n",
      "clean question stop1\n",
      "clean len and nb words2\n",
      "clean question stop2\n"
     ]
    }
   ],
   "source": [
    "stops = stopwords.words(\"english\")\n",
    "for i in range(1,3):\n",
    "    print(typ+\" len and nb words\"+str(i))\n",
    "    train_data[typ+'_len'+str(i)] = train_data[typ+'_question'+str(i)].str.len()\n",
    "    train_data[typ+'_words'+str(i)] = train_data[typ+'_question'+str(i)].str.split()\n",
    "    train_data[typ+'_nb_words'+str(i)] = train_data[typ+'_words'+str(i)].apply(len)\n",
    "\n",
    "    print(typ+\" question stop\" +str(i))\n",
    "    train_data[typ+'_words_stop'+str(i)] = train_data[typ+'_words'+str(i)].apply(\n",
    "                                                lambda words: [w for w in words if not w in stops])\n",
    "    train_data[typ+'_nb_words_stop'+str(i)] = train_data[typ+'_words_stop'+str(i)].apply(len)\n",
    "    train_data[typ+'_question_stop'+str(i)] = train_data[typ+'_words_stop'+str(i)].apply(lambda x: \" \".join(x))\n",
    "    train_data[typ+'_len_stop'+str(i)] = train_data[typ+'_question_stop'+str(i)].str.len()"
   ]
  },
  {
   "cell_type": "code",
   "execution_count": 10,
   "metadata": {
    "collapsed": false,
    "scrolled": true
   },
   "outputs": [],
   "source": [
    "for cat,stop in itertools.product(['len','nb_words'],['','_stop']):\n",
    "    train_data[typ+'_'+'min_'+cat+stop] = np.minimum(train_data[typ+'_'+cat+stop+'1'],\n",
    "                                                     train_data[typ+'_'+cat+stop+'2'])\n",
    "    train_data[typ+'_'+'max_'+cat+stop] = np.maximum(train_data[typ+'_'+cat+stop+'1'],\n",
    "                                                     train_data[typ+'_'+cat+stop+'2'])\n",
    "    train_data[typ+'_'+'abs_diff_'+cat+stop] = np.abs(train_data[typ+'_'+cat+stop+'1'] - \n",
    "                                                      train_data[typ+'_'+cat+stop+'2'])\n",
    "    train_data[typ+'_'+'abs_diff_'+cat+stop] = (np.abs(train_data[typ+'_'+cat+stop+'1'] - \n",
    "                                                       train_data[typ+'_'+cat+stop+'2']) /\n",
    "                                                np.maximum(1,(train_data[typ+'_'+cat+stop+'1'] + \n",
    "                                                              train_data[typ+'_'+cat+stop+'2'])))"
   ]
  },
  {
   "cell_type": "code",
   "execution_count": 11,
   "metadata": {
    "collapsed": false
   },
   "outputs": [
    {
     "name": "stdout",
     "output_type": "stream",
     "text": [
      "clean multiple distance \n",
      "clean multiple distance _stop\n"
     ]
    }
   ],
   "source": [
    "import difflib, Levenshtein, distance\n",
    "\n",
    "def multiple_distance(string1,string2):\n",
    "    try:\n",
    "        diff = difflib.SequenceMatcher(None, string1, string2).ratio()\n",
    "        leve = Levenshtein.ratio(string1, string2)\n",
    "        sore = 1 - distance.sorensen(string1, string2)\n",
    "        jacc = 1 - distance.jaccard(string1, string2)\n",
    "    except:\n",
    "        diff,leve,sore,jacc = 0,0,0,0\n",
    "    return pd.Series([diff,leve,sore,jacc])\n",
    "\n",
    "for stop in ['','_stop']:\n",
    "    print(typ+' multiple distance '+stop)\n",
    "    train_data[[typ+'_diff'+stop,typ+'_leve'+stop,typ+'_sore'+stop,typ+'_jacc'+stop]] = train_data[\n",
    "        [typ+'_question'+stop+'1',typ+'_question'+stop+'2']].apply(\n",
    "        lambda x: multiple_distance(x[typ+'_question'+stop+'1'], x[typ+'_question'+stop+'2']),axis=1)"
   ]
  },
  {
   "cell_type": "markdown",
   "metadata": {},
   "source": [
    "## words type"
   ]
  },
  {
   "cell_type": "code",
   "execution_count": 79,
   "metadata": {
    "collapsed": false
   },
   "outputs": [
    {
     "name": "stdout",
     "output_type": "stream",
     "text": [
      "clean set word \n"
     ]
    }
   ],
   "source": [
    "def word_share_tokenized(words1,words2):\n",
    "    \n",
    "    w1 = set(words1)\n",
    "    w2 = set(words2)\n",
    "    \n",
    "    shared = w1 & w2\n",
    "    diff = w1 ^ w2\n",
    "    \n",
    "    w1_stop = w1 - stops_set\n",
    "    w2_stop = w2 - stops_set\n",
    "    \n",
    "    shared_stop = w1_stop & w2_stop\n",
    "    diff_stop = w1_stop ^ w2_stop\n",
    "    \n",
    "    return pd.Series([shared, diff, shared_stop, diff_stop])\n",
    "\n",
    "print(typ+' set word ')\n",
    "train_data[[typ+'_common_set',typ+'_diff_set',typ+'_common_set_stop', typ+'_diff_set_stop']] = train_data.apply(\n",
    "    lambda x: word_share_tokenized(x[typ+'_words1'],x[typ+'_words2']), axis=1)"
   ]
  },
  {
   "cell_type": "code",
   "execution_count": 80,
   "metadata": {
    "collapsed": false
   },
   "outputs": [
    {
     "name": "stdout",
     "output_type": "stream",
     "text": [
      "clean pos word \n"
     ]
    }
   ],
   "source": [
    "print(typ+' common pos word ')\n",
    "train_data[typ+'_common_pos'] = train_data[typ+'_common_set_stop'].apply(pos_tag)\n",
    "print(typ+' diff pos word ')\n",
    "train_data[typ+'_diff_pos'] = train_data[typ+'_diff_set_stop'].apply(pos_tag)"
   ]
  },
  {
   "cell_type": "code",
   "execution_count": 81,
   "metadata": {
    "collapsed": false
   },
   "outputs": [
    {
     "name": "stdout",
     "output_type": "stream",
     "text": [
      "clean count pos word \n"
     ]
    }
   ],
   "source": [
    "def count_tags(pos_tags):\n",
    "    types = [tag[1][:2] for tag in pos_tags]\n",
    "    res = [types.count(tag) for tag in ['NN','JJ','RB','VB']]\n",
    "    return pd.Series(res)\n",
    "\n",
    "print(typ+' count pos word ')\n",
    "train_data[[typ+'_NN_diff',typ+'_JJ_diff',\n",
    "            typ+'_RB_diff',typ+'_VB_diff']] = train_data[typ+'_diff_pos'].apply(count_tags)\n",
    "train_data[[typ+'_NN_common',typ+'_JJ_common',\n",
    "            typ+'_RB_common',typ+'_VB_common']] = train_data[typ+'_common_pos'].apply(count_tags)"
   ]
  },
  {
   "cell_type": "code",
   "execution_count": 82,
   "metadata": {
    "collapsed": true
   },
   "outputs": [],
   "source": [
    "for tag in ['NN','JJ','RB','VB']:\n",
    "    train_data[typ+'_'+tag+'_diff_norm'] = (train_data[typ+'_'+tag+'_diff'] / \n",
    "                                          np.maximum(1.0, train_data[typ+'_'+tag+'_diff'] + \n",
    "                                                     train_data[typ+'_'+tag+'_common']))"
   ]
  },
  {
   "cell_type": "code",
   "execution_count": 83,
   "metadata": {
    "collapsed": false
   },
   "outputs": [
    {
     "name": "stdout",
     "output_type": "stream",
     "text": [
      "clean set word \n",
      "clean set word _stop\n"
     ]
    }
   ],
   "source": [
    "for stop in ['','_stop']:\n",
    "    print(typ+' set word '+stop)\n",
    "    train_data[typ+'_common_set_len'+stop] = train_data[typ+'_common_set'+stop].apply(len)\n",
    "    train_data[typ+'_diff_set_len'+stop] = train_data[typ+'_diff_set'+stop].apply(len)"
   ]
  },
  {
   "cell_type": "code",
   "execution_count": 174,
   "metadata": {
    "collapsed": false
   },
   "outputs": [],
   "source": [
    "for tag in ['NN','JJ','RB','VB']:\n",
    "    train_data[typ+'_'+tag+'_diff_norm_ll'] = (train_data[typ+'_'+tag+'_diff'] / \n",
    "                                                    train_data[typ+'_diff_set_len_stop'])\n",
    "    train_data[typ+'_'+tag+'_common_norm_ll'] = (train_data[typ+'_'+tag+'_common'] / \n",
    "                                                    train_data[typ+'_common_set_len_stop'])\n",
    "    train_data[typ+'_'+tag+'_diff_norm_lll'] = (train_data[typ+'_'+tag+'_diff'] / \n",
    "                                                     (train_data[typ+'_diff_set_len_stop'] + \n",
    "                                                      train_data[typ+'_common_set_len_stop']))"
   ]
  },
  {
   "cell_type": "code",
   "execution_count": 131,
   "metadata": {
    "collapsed": true
   },
   "outputs": [],
   "source": [
    "train_data[typ+'_stop_common_ratio'] = train_data[typ+'_common_set_len_stop'] / train_data[typ+'_common_set_len']\n",
    "train_data[typ+'_stop_diff_ratio'] = train_data[typ+'_diff_set_len_stop'] / train_data[typ+'_diff_set_len']\n",
    "train_data[typ+'_word_share_stop'] = train_data[typ+'_common_set_len_stop'] / (train_data[typ+'_diff_set_len_stop'] +\n",
    "                                                                             train_data[typ+'_common_set_len_stop'])\n",
    "train_data[typ+'_word_share'] = train_data[typ+'_common_set_len'] / (train_data[typ+'_diff_set_len'] +\n",
    "                                                                        train_data[typ+'_common_set_len'])"
   ]
  },
  {
   "cell_type": "code",
   "execution_count": 145,
   "metadata": {
    "collapsed": false
   },
   "outputs": [],
   "source": [
    "def bigrams(words):\n",
    "    if len(words) > 1:\n",
    "        return [i for i in zip(words[:-1], words[1:])]\n",
    "    else:\n",
    "        return []\n",
    "    \n",
    "def trigrams(words):\n",
    "    if len(words) > 2:\n",
    "        return [i for i in zip(words[:-2], words[1:-1], words[2:])]\n",
    "    else:\n",
    "        return [] \n",
    "\n",
    "def word_share_bigrams(words1,words2):\n",
    "    \n",
    "    b1 = bigrams(words1)\n",
    "    b2 = bigrams(words2)\n",
    "    \n",
    "    w1 = set(b1)\n",
    "    w2 = set(b2)\n",
    "    \n",
    "    shared = len(w1 & w2)\n",
    "    diff = len(w1 ^ w2)\n",
    "    \n",
    "    return pd.Series([shared/max(shared+diff,1), shared/max(len(b1)+len(b2),1)])\n",
    "\n",
    "def word_share_trigrams(words1,words2):\n",
    "    \n",
    "    b1 = trigrams(words1)\n",
    "    b2 = trigrams(words2)\n",
    "    \n",
    "    w1 = set(b1)\n",
    "    w2 = set(b2)\n",
    "    \n",
    "    shared = len(w1 & w2)\n",
    "    diff = len(w1 ^ w2)\n",
    "    \n",
    "    return pd.Series([shared/max(shared+diff,1), shared/max(len(b1)+len(b2),1)])\n",
    "\n",
    "train_data[[typ+'_shared_bigrams_jac',typ+'_shared_bigram_dice']] = train_data.apply(\n",
    "    lambda x: word_share_bigrams(x[typ+'_words1'],x[typ+'_words2']), axis=1)\n",
    "train_data[[typ+'_shared_trigrams_jac',typ+'_shared_trigram_dice']] = train_data.apply(\n",
    "    lambda x: word_share_trigrams(x[typ+'_words1'],x[typ+'_words2']), axis=1)"
   ]
  },
  {
   "cell_type": "code",
   "execution_count": 155,
   "metadata": {
    "collapsed": true
   },
   "outputs": [],
   "source": [
    "def word_hamming(words1,words2):\n",
    "    return sum(1 for i in zip(words1, words2) if i[0]==i[1])/max(len(words1), len(words2))\n",
    "\n",
    "train_data[typ+'_word_hamming'] = train_data.apply(\n",
    "    lambda x: word_hamming(x[typ+'_words1'],x[typ+'_words2']), axis=1)"
   ]
  },
  {
   "cell_type": "code",
   "execution_count": null,
   "metadata": {
    "collapsed": true
   },
   "outputs": [],
   "source": [
    "from collections import Counter\n",
    "\n",
    "def get_weight(count, eps=10000, min_count=2):\n",
    "    return 0 if count < min_count else 1 / (count + eps)\n",
    "\n",
    "train_qs = pd.Series(train_data['clean_question1'].tolist() + train_data['clean_question2'].tolist()).astype(str)\n",
    "words = (\" \".join(train_qs)).split()\n",
    "counts = Counter(words)\n",
    "weights = {word: get_weight(count) for word, count in counts.items()}\n",
    "\n",
    "def idf_word_share(common_set, diff_set):\n",
    "    common_weight =[weights.get(w, 0) for w in common_set]\n",
    "    diff_weight =[weights.get(w, 0) for w in diff_set]\n",
    "    return np.sum(common_weight)/(np.sum(common_weight)+np.sum(diff_weight))\n",
    "\n",
    "print('idf word share')\n",
    "train_data[typ+'_idf_word_share_stop'] = train_data.apply(lambda x: idf_word_share(x[typ+'_common_set_stop'],\n",
    "                                                                                  x[typ+'_diff_set_stop']),axis=1)\n",
    "train_data[typ+'_idf_word_share'] = train_data.apply(lambda x: idf_word_share(x[typ+'_common_set'],\n",
    "                                                                                  x[typ+'_diff_set']),axis=1)"
   ]
  },
  {
   "cell_type": "markdown",
   "metadata": {},
   "source": [
    "## tf-idf features"
   ]
  },
  {
   "cell_type": "code",
   "execution_count": 6,
   "metadata": {
    "collapsed": true
   },
   "outputs": [],
   "source": [
    "stops = stopwords.words(\"english\")\n",
    "\n",
    "def cosine_vectors(vec1,vec2):\n",
    "    \n",
    "    norm_v1 = np.array(np.sqrt(vec1.multiply(vec1).sum(axis=1)))[:, 0]\n",
    "    norm_v2 = np.array(np.sqrt(vec2.multiply(vec2).sum(axis=1)))[:, 0]\n",
    "    num = np.array(vec1.multiply(vec2).sum(axis=1))[:, 0]\n",
    "    den = norm_v1 * norm_v2\n",
    "    \n",
    "    num[np.where(den == 0)] = 1\n",
    "    den[np.where(den == 0)] = 1\n",
    "\n",
    "    v_score = 1 - num/den\n",
    "    \n",
    "    return v_score.astype(float)\n",
    "\n",
    "def l1_norm(vec1,vec2):\n",
    "    return np.array(np.abs(vec1 - vec2).sum(axis=1))[:, 0]\n",
    "\n",
    "def l2_norm(vec1,vec2):\n",
    "    vec_diff = vec1 - vec2\n",
    "    return np.array(vec1.multiply(vec1).sum(axis=1))[:, 0]\n",
    "    "
   ]
  },
  {
   "cell_type": "code",
   "execution_count": null,
   "metadata": {
    "collapsed": true
   },
   "outputs": [],
   "source": [
    "from sklearn.metrics.pairwise import pairwise_distances\n",
    "from sklearn.metrics.pairwise import additive_chi2_kernel"
   ]
  },
  {
   "cell_type": "code",
   "execution_count": 7,
   "metadata": {
    "collapsed": false
   },
   "outputs": [],
   "source": [
    "questions = pd.concat([train_data['clean_question1'],train_data['clean_question2']]).unique()\n",
    "tfidf1_gram = TfidfVectorizer(stop_words=stops,\n",
    "                        analyzer='word',use_idf=True,\n",
    "                        smooth_idf=True,min_df=10,max_df=0.99,ngram_range=(1,1)).fit(questions)\n",
    "\n",
    "clean_v1 = tfidf1_gram.transform(train_data.ix[:,'clean_question1'])\n",
    "clean_v2 = tfidf1_gram.transform(train_data.ix[:,'clean_question2'])\n",
    "\n",
    "train_data['tf-idf-cosine_clean_one_gram'] = cosine_vectors(clean_v1,clean_v2)"
   ]
  },
  {
   "cell_type": "code",
   "execution_count": 10,
   "metadata": {
    "collapsed": false
   },
   "outputs": [
    {
     "data": {
      "text/plain": [
       "array([[ 0.69592934]])"
      ]
     },
     "execution_count": 10,
     "metadata": {},
     "output_type": "execute_result"
    }
   ],
   "source": [
    "cosine_similarity(clean_v1[1],clean_v2[1])"
   ]
  },
  {
   "cell_type": "code",
   "execution_count": 12,
   "metadata": {
    "collapsed": false
   },
   "outputs": [],
   "source": [
    "norm_v1 = np.array(np.sqrt(clean_v1.multiply(clean_v1).sum(axis=1)))[:, 0]"
   ]
  },
  {
   "cell_type": "code",
   "execution_count": 23,
   "metadata": {
    "collapsed": false
   },
   "outputs": [
    {
     "data": {
      "text/plain": [
       "array([ 0.23262454,  2.24884017,  3.18442788, ...,  0.54946621,\n",
       "        6.12323386,  0.        ])"
      ]
     },
     "execution_count": 23,
     "metadata": {},
     "output_type": "execute_result"
    }
   ],
   "source": [
    "np.array(np.abs(clean_v1 - clean_v2).sum(axis=1))[:, 0]"
   ]
  },
  {
   "cell_type": "code",
   "execution_count": 90,
   "metadata": {
    "collapsed": false
   },
   "outputs": [],
   "source": [
    "questions = pd.concat([train_data['clean_question1'],train_data['clean_question2']]).unique()\n",
    "tfidf2_gram = TfidfVectorizer(analyzer='word',use_idf=True,\n",
    "                        smooth_idf=True,min_df=25,max_df=0.95,ngram_range=(2,2)).fit(questions)\n",
    "\n",
    "clean_v1 = tfidf2_gram.transform(train_data.ix[:,'clean_question1'])\n",
    "clean_v2 = tfidf2_gram.transform(train_data.ix[:,'clean_question2'])\n",
    "\n",
    "train_data['tf-idf-cosine_clean_two_gram'] = cosine_vectors(clean_v1,clean_v2)"
   ]
  },
  {
   "cell_type": "code",
   "execution_count": 91,
   "metadata": {
    "collapsed": true
   },
   "outputs": [],
   "source": [
    "questions = pd.concat([train_data['clean_question1'],train_data['clean_question2']]).unique()\n",
    "tfidf3_gram = TfidfVectorizer(analyzer='word',use_idf=True,\n",
    "                        smooth_idf=True,min_df=10,max_df=0.95,ngram_range=(3,3)).fit(questions)\n",
    "\n",
    "clean_v1 = tfidf3_gram.transform(train_data.ix[:,'clean_question1'])\n",
    "clean_v2 = tfidf3_gram.transform(train_data.ix[:,'clean_question2'])\n",
    "\n",
    "train_data['tf-idf-cosine_clean_three_gram'] = cosine_vectors(clean_v1,clean_v2)"
   ]
  },
  {
   "cell_type": "code",
   "execution_count": 92,
   "metadata": {
    "collapsed": false
   },
   "outputs": [],
   "source": [
    "questions = pd.concat([train_data['clean_question1'],train_data['clean_question2']]).unique()\n",
    "tfidf = TfidfVectorizer(stop_words=stops,\n",
    "                        analyzer='word',use_idf=True,\n",
    "                        smooth_idf=True,min_df=50,max_df=0.95,ngram_range=(1,3)).fit(questions)\n",
    "\n",
    "clean_v1 = tfidf.transform(train_data.ix[:,'clean_question1'])\n",
    "clean_v2 = tfidf.transform(train_data.ix[:,'clean_question2'])\n",
    "\n",
    "train_data['tf-idf-cosine_clean'] = cosine_vectors(clean_v1,clean_v2)"
   ]
  },
  {
   "cell_type": "code",
   "execution_count": 175,
   "metadata": {
    "collapsed": false
   },
   "outputs": [],
   "source": [
    "cols = [col for col in train_data.columns if ('1' not in col and '2' not in col)][1:]\n",
    "usable_cols = [col for col in cols if train_data[col].dtype != object]"
   ]
  },
  {
   "cell_type": "code",
   "execution_count": 177,
   "metadata": {
    "collapsed": true
   },
   "outputs": [],
   "source": [
    "train_data[usable_cols].to_csv('data/clean_features.csv')"
   ]
  },
  {
   "cell_type": "code",
   "execution_count": 178,
   "metadata": {
    "collapsed": false
   },
   "outputs": [],
   "source": [
    "x_train = train_data.ix[0:350000,usable_cols]\n",
    "x_test = train_data.ix[350000:,usable_cols]\n",
    "y_train = train_data.ix[0:350000,'is_duplicate']\n",
    "y_test = train_data.ix[350000:,'is_duplicate']"
   ]
  },
  {
   "cell_type": "code",
   "execution_count": 179,
   "metadata": {
    "collapsed": true
   },
   "outputs": [],
   "source": [
    "from sklearn.metrics import log_loss, make_scorer\n",
    "\n",
    "xgb_params = {\n",
    "    'max_depth': 7, \n",
    "    'learning_rate': 0.1,\n",
    "    'n_estimators': 300, \n",
    "    'objective': 'binary:logistic',\n",
    "    'nthread': 8, \n",
    "    'gamma': 0, \n",
    "    'subsample': 0.75, \n",
    "    'colsample_bytree': 0.75, \n",
    "    'colsample_bylevel': 1,\n",
    "    'reg_alpha': 0, \n",
    "    'reg_lambda': 1, \n",
    "    'scale_pos_weight': 1\n",
    "}\n",
    "\n",
    "model = xgb.XGBClassifier(silent=False).set_params(**xgb_params)"
   ]
  },
  {
   "cell_type": "code",
   "execution_count": 180,
   "metadata": {
    "collapsed": false
   },
   "outputs": [
    {
     "data": {
      "text/plain": [
       "XGBClassifier(base_score=0.5, colsample_bylevel=1, colsample_bytree=0.75,\n",
       "       gamma=0, learning_rate=0.1, max_delta_step=0, max_depth=7,\n",
       "       min_child_weight=1, missing=None, n_estimators=300, nthread=8,\n",
       "       objective='binary:logistic', reg_alpha=0, reg_lambda=1,\n",
       "       scale_pos_weight=1, seed=0, silent=False, subsample=0.75)"
      ]
     },
     "execution_count": 180,
     "metadata": {},
     "output_type": "execute_result"
    }
   ],
   "source": [
    "model.fit(x_train, y_train)"
   ]
  },
  {
   "cell_type": "code",
   "execution_count": 181,
   "metadata": {
    "collapsed": false
   },
   "outputs": [],
   "source": [
    "proba = model.predict_proba(x_test)[:,1]\n",
    "y_pred = model.predict(x_test)"
   ]
  },
  {
   "cell_type": "code",
   "execution_count": 182,
   "metadata": {
    "collapsed": false
   },
   "outputs": [
    {
     "name": "stdout",
     "output_type": "stream",
     "text": [
      "0.872095690868\n",
      "0.412559732181\n"
     ]
    },
    {
     "data": {
      "text/plain": [
       "[<matplotlib.lines.Line2D at 0x7f33531d4908>]"
      ]
     },
     "execution_count": 182,
     "metadata": {},
     "output_type": "execute_result"
    },
    {
     "data": {
      "image/png": "[encoded data removed]",
      "text/plain": [
       "<matplotlib.figure.Figure at 0x7f338f74c978>"
      ]
     },
     "metadata": {},
     "output_type": "display_data"
    }
   ],
   "source": [
    "from sklearn.metrics import log_loss, make_scorer\n",
    "plt.figure(figsize=(12,8))\n",
    "plt.xlabel('False Positive Rate')\n",
    "plt.ylabel('True Positive Rate')\n",
    "plt.title('ROC Curve for different classifiers')\n",
    "\n",
    "plt.plot([0, 1], [0, 1], color='navy', linestyle='--')\n",
    "fpr, tpr, _ = roc_curve(y_test, proba)\n",
    "roc_auc = auc(fpr, tpr)\n",
    "print(roc_auc)\n",
    "print(log_loss(y_test,proba))\n",
    "plt.plot(fpr, tpr)"
   ]
  },
  {
   "cell_type": "code",
   "execution_count": 183,
   "metadata": {
    "collapsed": false
   },
   "outputs": [],
   "source": [
    "fi = pd.DataFrame([(usable_cols[i],model.feature_importances_[i]) for i in range(len(usable_cols))], columns=['feature','ímportance'])\n",
    "fi = fi.sort_values(fi.columns[1],ascending=True)\n",
    "fi.plot(kind='barh',x='feature',y='ímportance',figsize=(16,40),sort_columns=True)"
   ]
  },
  {
   "cell_type": "code",
   "execution_count": null,
   "metadata": {
    "collapsed": true
   },
   "outputs": [],
   "source": []
  },
  {
   "cell_type": "code",
   "execution_count": null,
   "metadata": {
    "collapsed": true
   },
   "outputs": [],
   "source": []
  },
  {
   "cell_type": "code",
   "execution_count": 191,
   "metadata": {
    "collapsed": false
   },
   "outputs": [
    {
     "name": "stdout",
     "output_type": "stream",
     "text": [
      "cleanning question1\n",
      "cleanning question2\n"
     ]
    }
   ],
   "source": [
    "# clean data and stem-lemma\n",
    "typ = 'clean'\n",
    "for i in range(1,3):\n",
    "    # clean\n",
    "    print(\"cleanning question\" +str(i))\n",
    "    test_data['clean_question'+str(i)] = test_data['question'+str(i)].apply(text_cleaner)"
   ]
  },
  {
   "cell_type": "code",
   "execution_count": 192,
   "metadata": {
    "collapsed": false
   },
   "outputs": [
    {
     "name": "stdout",
     "output_type": "stream",
     "text": [
      "clean len and nb words1\n",
      "clean question stop1\n",
      "clean len and nb words2\n",
      "clean question stop2\n"
     ]
    }
   ],
   "source": [
    "for i in range(1,3):\n",
    "    print(typ+\" len and nb words\"+str(i))\n",
    "    test_data[typ+'_len'+str(i)] = test_data[typ+'_question'+str(i)].str.len()\n",
    "    test_data[typ+'_words'+str(i)] = test_data[typ+'_question'+str(i)].str.split()\n",
    "    test_data[typ+'_nb_words'+str(i)] = test_data[typ+'_words'+str(i)].apply(len)\n",
    "\n",
    "    print(typ+\" question stop\" +str(i))\n",
    "    test_data[typ+'_words_stop'+str(i)] = test_data[typ+'_words'+str(i)].apply(\n",
    "                                                lambda words: [w for w in words if not w in stops])\n",
    "    test_data[typ+'_nb_words_stop'+str(i)] = test_data[typ+'_words_stop'+str(i)].apply(len)\n",
    "    test_data[typ+'_question_stop'+str(i)] = test_data[typ+'_words_stop'+str(i)].apply(lambda x: \" \".join(x))\n",
    "    test_data[typ+'_len_stop'+str(i)] = test_data[typ+'_question_stop'+str(i)].str.len()"
   ]
  },
  {
   "cell_type": "code",
   "execution_count": 193,
   "metadata": {
    "collapsed": true
   },
   "outputs": [],
   "source": [
    "for cat,stop in itertools.product(['len','nb_words'],['','_stop']):\n",
    "    test_data[typ+'_'+'min_'+cat+stop] = np.minimum(test_data[typ+'_'+cat+stop+'1'],\n",
    "                                                     test_data[typ+'_'+cat+stop+'2'])\n",
    "    test_data[typ+'_'+'max_'+cat+stop] = np.maximum(test_data[typ+'_'+cat+stop+'1'],\n",
    "                                                     test_data[typ+'_'+cat+stop+'2'])\n",
    "    test_data[typ+'_'+'abs_diff_'+cat+stop] = np.abs(test_data[typ+'_'+cat+stop+'1'] - \n",
    "                                                      test_data[typ+'_'+cat+stop+'2'])\n",
    "    test_data[typ+'_'+'abs_diff_'+cat+stop] = (np.abs(test_data[typ+'_'+cat+stop+'1'] - \n",
    "                                                       test_data[typ+'_'+cat+stop+'2']) /\n",
    "                                                np.maximum(1,(test_data[typ+'_'+cat+stop+'1'] + \n",
    "                                                              test_data[typ+'_'+cat+stop+'2'])))"
   ]
  },
  {
   "cell_type": "code",
   "execution_count": 194,
   "metadata": {
    "collapsed": false
   },
   "outputs": [
    {
     "name": "stdout",
     "output_type": "stream",
     "text": [
      "clean multiple distance \n",
      "clean multiple distance _stop\n"
     ]
    }
   ],
   "source": [
    "for stop in ['','_stop']:\n",
    "    print(typ+' multiple distance '+stop)\n",
    "    test_data[[typ+'_diff'+stop,typ+'_leve'+stop,typ+'_sore'+stop,typ+'_jacc'+stop]] = test_data[\n",
    "        [typ+'_question'+stop+'1',typ+'_question'+stop+'2']].apply(\n",
    "        lambda x: multiple_distance(x[typ+'_question'+stop+'1'], x[typ+'_question'+stop+'2']),axis=1)"
   ]
  },
  {
   "cell_type": "code",
   "execution_count": 195,
   "metadata": {
    "collapsed": false
   },
   "outputs": [
    {
     "name": "stdout",
     "output_type": "stream",
     "text": [
      "clean set word \n",
      "clean common pos word \n",
      "clean diff pos word \n",
      "clean count pos word \n"
     ]
    }
   ],
   "source": [
    "print(typ+' set word ')\n",
    "test_data[[typ+'_common_set',typ+'_diff_set',typ+'_common_set_stop', typ+'_diff_set_stop']] = test_data.apply(\n",
    "    lambda x: word_share_tokenized(x[typ+'_words1'],x[typ+'_words2']), axis=1)\n",
    "print(typ+' common pos word ')\n",
    "test_data[typ+'_common_pos'] = test_data[typ+'_common_set_stop'].apply(pos_tag)\n",
    "print(typ+' diff pos word ')\n",
    "test_data[typ+'_diff_pos'] = test_data[typ+'_diff_set_stop'].apply(pos_tag)\n",
    "print(typ+' count pos word ')\n",
    "test_data[[typ+'_NN_diff',typ+'_JJ_diff',\n",
    "            typ+'_RB_diff',typ+'_VB_diff']] = test_data[typ+'_diff_pos'].apply(count_tags)\n",
    "test_data[[typ+'_NN_common',typ+'_JJ_common',\n",
    "            typ+'_RB_common',typ+'_VB_common']] = test_data[typ+'_common_pos'].apply(count_tags)"
   ]
  },
  {
   "cell_type": "code",
   "execution_count": 196,
   "metadata": {
    "collapsed": false
   },
   "outputs": [
    {
     "name": "stdout",
     "output_type": "stream",
     "text": [
      "done\n"
     ]
    }
   ],
   "source": [
    "print(\"done\")"
   ]
  },
  {
   "cell_type": "code",
   "execution_count": 197,
   "metadata": {
    "collapsed": false
   },
   "outputs": [
    {
     "name": "stdout",
     "output_type": "stream",
     "text": [
      "clean set word \n",
      "clean set word _stop\n"
     ]
    }
   ],
   "source": [
    "for stop in ['','_stop']:\n",
    "    print(typ+' set word '+stop)\n",
    "    test_data[typ+'_common_set_len'+stop] = test_data[typ+'_common_set'+stop].apply(len)\n",
    "    test_data[typ+'_diff_set_len'+stop] = test_data[typ+'_diff_set'+stop].apply(len)"
   ]
  },
  {
   "cell_type": "code",
   "execution_count": 198,
   "metadata": {
    "collapsed": true
   },
   "outputs": [],
   "source": [
    "for tag in ['NN','JJ','RB','VB']:\n",
    "    test_data[typ+'_'+tag+'_diff_norm'] = (test_data[typ+'_'+tag+'_diff'] / \n",
    "                                          np.maximum(1.0, test_data[typ+'_'+tag+'_diff'] + \n",
    "                                                     test_data[typ+'_'+tag+'_common']))\n",
    "    test_data[typ+'_'+tag+'_diff_norm_ll'] = (test_data[typ+'_'+tag+'_diff'] / \n",
    "                                                    test_data[typ+'_diff_set_len_stop'])\n",
    "    test_data[typ+'_'+tag+'_common_norm_ll'] = (test_data[typ+'_'+tag+'_common'] / \n",
    "                                                    test_data[typ+'_common_set_len_stop'])\n",
    "    test_data[typ+'_'+tag+'_diff_norm_lll'] = (test_data[typ+'_'+tag+'_diff'] / \n",
    "                                                     (test_data[typ+'_diff_set_len_stop'] + \n",
    "                                                      test_data[typ+'_common_set_len_stop']))"
   ]
  },
  {
   "cell_type": "code",
   "execution_count": 199,
   "metadata": {
    "collapsed": true
   },
   "outputs": [],
   "source": [
    "test_data[typ+'_stop_common_ratio'] = test_data[typ+'_common_set_len_stop'] / test_data[typ+'_common_set_len']\n",
    "test_data[typ+'_stop_diff_ratio'] = test_data[typ+'_diff_set_len_stop'] / test_data[typ+'_diff_set_len']\n",
    "test_data[typ+'_word_share_stop'] = test_data[typ+'_common_set_len_stop'] / (test_data[typ+'_diff_set_len_stop'] +\n",
    "                                                                             test_data[typ+'_common_set_len_stop'])\n",
    "test_data[typ+'_word_share'] = test_data[typ+'_common_set_len'] / (test_data[typ+'_diff_set_len'] +\n",
    "                                                                        test_data[typ+'_common_set_len'])"
   ]
  },
  {
   "cell_type": "code",
   "execution_count": null,
   "metadata": {
    "collapsed": false
   },
   "outputs": [],
   "source": [
    "test_data[[typ+'_shared_bigrams_jac',typ+'_shared_bigram_dice']] = test_data.apply(\n",
    "    lambda x: word_share_bigrams(x[typ+'_words1'],x[typ+'_words2']), axis=1)\n",
    "test_data[[typ+'_shared_trigrams_jac',typ+'_shared_trigram_dice']] = test_data.apply(\n",
    "    lambda x: word_share_trigrams(x[typ+'_words1'],x[typ+'_words2']), axis=1)\n",
    "test_data[typ+'_word_hamming'] = test_data.apply(\n",
    "    lambda x: word_hamming(x[typ+'_words1'],x[typ+'_words2']), axis=1)"
   ]
  },
  {
   "cell_type": "code",
   "execution_count": null,
   "metadata": {
    "collapsed": true
   },
   "outputs": [],
   "source": [
    "print('idf word share')\n",
    "test_data[typ+'_idf_word_share_stop'] = test_data.apply(lambda x: idf_word_share(x[typ+'_common_set_stop'],\n",
    "                                                                                  x[typ+'_diff_set_stop']),axis=1)\n",
    "test_data[typ+'_idf_word_share'] = test_data.apply(lambda x: idf_word_share(x[typ+'_common_set'],\n",
    "                                                                                  x[typ+'_diff_set']),axis=1)"
   ]
  },
  {
   "cell_type": "code",
   "execution_count": null,
   "metadata": {
    "collapsed": true
   },
   "outputs": [],
   "source": [
    "clean_v1 = tfidf.transform(train_data.ix[:,'clean_question1'])\n",
    "clean_v2 = tfidf.transform(train_data.ix[:,'clean_question2'])\n",
    "\n",
    "train_data['tf-idf-cosine_clean'] = cosine_vectors(clean_v1,clean_v2)"
   ]
  },
  {
   "cell_type": "code",
   "execution_count": null,
   "metadata": {
    "collapsed": true
   },
   "outputs": [],
   "source": [
    "clean_v1 = tfidf.transform(train_data.ix[:,'clean_question1'])\n",
    "clean_v2 = tfidf.transform(train_data.ix[:,'clean_question2'])\n",
    "\n",
    "train_data['tf-idf-cosine_clean'] = cosine_vectors(clean_v1,clean_v2)"
   ]
  },
  {
   "cell_type": "code",
   "execution_count": null,
   "metadata": {
    "collapsed": true
   },
   "outputs": [],
   "source": [
    "clean_v1 = tfidf.transform(train_data.ix[:,'clean_question1'])\n",
    "clean_v2 = tfidf.transform(train_data.ix[:,'clean_question2'])\n",
    "\n",
    "train_data['tf-idf-cosine_clean'] = cosine_vectors(clean_v1,clean_v2)"
   ]
  },
  {
   "cell_type": "code",
   "execution_count": null,
   "metadata": {
    "collapsed": true
   },
   "outputs": [],
   "source": [
    "clean_v1 = tfidf.transform(train_data.ix[:,'clean_question1'])\n",
    "clean_v2 = tfidf.transform(train_data.ix[:,'clean_question2'])\n",
    "\n",
    "train_data['tf-idf-cosine_clean'] = cosine_vectors(clean_v1,clean_v2)"
   ]
  }
 ],
 "metadata": {
  "kernelspec": {
   "display_name": "Python 3",
   "language": "python",
   "name": "python3"
  },
  "language_info": {
   "codemirror_mode": {
    "name": "ipython",
    "version": 3
   },
   "file_extension": ".py",
   "mimetype": "text/x-python",
   "name": "python",
   "nbconvert_exporter": "python",
   "pygments_lexer": "ipython3",
   "version": "3.6.0"
  }
 },
 "nbformat": 4,
 "nbformat_minor": 0
}
